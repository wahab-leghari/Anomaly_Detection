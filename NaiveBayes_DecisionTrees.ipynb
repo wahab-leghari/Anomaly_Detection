{
 "cells": [
  {
   "cell_type": "code",
   "execution_count": 42,
   "metadata": {
    "id": "OQWdK-Ykis0V"
   },
   "outputs": [],
   "source": [
    "import pandas as pd"
   ]
  },
  {
   "cell_type": "code",
   "execution_count": 43,
   "metadata": {
    "colab": {
     "base_uri": "https://localhost:8080/"
    },
    "id": "D7g3HlhEizEQ",
    "outputId": "54bc1bee-998e-4624-e015-2b2b8957dcb2"
   },
   "outputs": [
    {
     "name": "stdout",
     "output_type": "stream",
     "text": [
      "Drive already mounted at /content/gdrive; to attempt to forcibly remount, call drive.mount(\"/content/gdrive\", force_remount=True).\n"
     ]
    }
   ],
   "source": [
    "from google.colab import drive\n",
    "drive.mount('/content/gdrive')"
   ]
  },
  {
   "cell_type": "code",
   "execution_count": 44,
   "metadata": {
    "colab": {
     "base_uri": "https://localhost:8080/"
    },
    "id": "oAEb9_tgi9gs",
    "outputId": "dfe799a8-091c-4696-9f92-721905e7c3ad"
   },
   "outputs": [
    {
     "data": {
      "text/plain": [
       "<bound method NDFrame.head of                                           Flow_ID           Src_IP  Src_Port  \\\n",
       "0        192.168.0.13-192.168.0.16-10000-10101-17     192.168.0.13     10000   \n",
       "1         192.168.0.13-222.160.179.132-554-2179-6  222.160.179.132      2179   \n",
       "2          192.168.0.13-192.168.0.16-9020-52727-6     192.168.0.16     52727   \n",
       "3          192.168.0.13-192.168.0.16-9020-52964-6     192.168.0.16     52964   \n",
       "4       192.168.0.1-239.255.255.250-36763-1900-17      192.168.0.1     36763   \n",
       "...                                           ...              ...       ...   \n",
       "625778   192.168.0.24-210.89.164.90-56112-8043-17     192.168.0.24     56112   \n",
       "625779    192.168.0.13-222.131.171.244-554-4570-6  222.131.171.244      4570   \n",
       "625780     192.168.0.13-192.168.0.16-9020-52739-6     192.168.0.16     52739   \n",
       "625781     192.168.0.13-192.168.0.16-9020-49784-6     192.168.0.13      9020   \n",
       "625782   192.168.0.13-192.168.0.16-10000-10101-17     192.168.0.13     10000   \n",
       "\n",
       "                 Dst_IP  Dst_Port  Protocol               Timestamp  \\\n",
       "0          192.168.0.16     10101        17  25/07/2019 03:25:53 AM   \n",
       "1          192.168.0.13       554         6  26/05/2019 10:11:06 PM   \n",
       "2          192.168.0.13      9020         6  11/07/2019 01:24:48 AM   \n",
       "3          192.168.0.13      9020         6  04/09/2019 03:58:17 AM   \n",
       "4       239.255.255.250      1900        17  10/09/2019 01:41:18 AM   \n",
       "...                 ...       ...       ...                     ...   \n",
       "625778    210.89.164.90      8043        17  25/07/2019 03:25:00 AM   \n",
       "625779     192.168.0.13       554         6  26/05/2019 10:06:51 PM   \n",
       "625780     192.168.0.13      9020         6  11/07/2019 01:29:09 AM   \n",
       "625781     192.168.0.16     49784         6  20/05/2019 05:00:29 AM   \n",
       "625782     192.168.0.16     10101        17  25/07/2019 03:25:10 AM   \n",
       "\n",
       "        Flow_Duration  Tot_Fwd_Pkts  Tot_Bwd_Pkts  ...  Active_Std  \\\n",
       "0                  75             1             1  ...         0.0   \n",
       "1                5310             1             2  ...         0.0   \n",
       "2                 141             0             3  ...         0.0   \n",
       "3                 151             0             2  ...         0.0   \n",
       "4                 153             2             1  ...         0.0   \n",
       "...               ...           ...           ...  ...         ...   \n",
       "625778            277             1             1  ...         0.0   \n",
       "625779           1658             0             2  ...         0.0   \n",
       "625780             77             1             1  ...         0.0   \n",
       "625781            240             2             1  ...         0.0   \n",
       "625782            198             2             1  ...         0.0   \n",
       "\n",
       "        Active_Max  Active_Min  Idle_Mean     Idle_Std  Idle_Max  Idle_Min  \\\n",
       "0              0.0         0.0       75.0     0.000000      75.0      75.0   \n",
       "1              0.0         0.0     2655.0  2261.327486    4254.0    1056.0   \n",
       "2              0.0         0.0       70.5     0.707107      71.0      70.0   \n",
       "3              0.0         0.0      151.0     0.000000     151.0     151.0   \n",
       "4              0.0         0.0       76.5     0.707107      77.0      76.0   \n",
       "...            ...         ...        ...          ...       ...       ...   \n",
       "625778         0.0         0.0      277.0     0.000000     277.0     277.0   \n",
       "625779         0.0         0.0     1658.0     0.000000    1658.0    1658.0   \n",
       "625780         0.0         0.0       77.0     0.000000      77.0      77.0   \n",
       "625781         0.0         0.0      120.0     7.071068     125.0     115.0   \n",
       "625782         0.0         0.0       99.0    32.526912     122.0      76.0   \n",
       "\n",
       "          Label     Cat                Sub_Cat  \n",
       "0       Anomaly   Mirai      Mirai-Ackflooding  \n",
       "1       Anomaly     DoS        DoS-Synflooding  \n",
       "2       Anomaly    Scan           Scan Port OS  \n",
       "3       Anomaly   Mirai  Mirai-Hostbruteforceg  \n",
       "4       Anomaly   Mirai  Mirai-Hostbruteforceg  \n",
       "...         ...     ...                    ...  \n",
       "625778  Anomaly   Mirai     Mirai-UDP Flooding  \n",
       "625779  Anomaly     DoS        DoS-Synflooding  \n",
       "625780  Anomaly    Scan           Scan Port OS  \n",
       "625781   Normal  Normal                 Normal  \n",
       "625782  Anomaly   Mirai     Mirai-UDP Flooding  \n",
       "\n",
       "[625783 rows x 86 columns]>"
      ]
     },
     "execution_count": 44,
     "metadata": {},
     "output_type": "execute_result"
    }
   ],
   "source": [
    "df = pd.read_csv('/content/gdrive/MyDrive/AdvancedML/IoT Network Intrusion Dataset.csv')\n",
    "df.head"
   ]
  },
  {
   "cell_type": "code",
   "execution_count": 45,
   "metadata": {
    "colab": {
     "base_uri": "https://localhost:8080/"
    },
    "id": "O2MTbG5Piok8",
    "outputId": "1b1811d8-528f-47b6-c023-f9e20248b8ec"
   },
   "outputs": [
    {
     "data": {
      "text/plain": [
       "(625783, 86)"
      ]
     },
     "execution_count": 45,
     "metadata": {},
     "output_type": "execute_result"
    }
   ],
   "source": [
    "df.shape"
   ]
  },
  {
   "cell_type": "code",
   "execution_count": 46,
   "metadata": {
    "colab": {
     "base_uri": "https://localhost:8080/"
    },
    "id": "ZeAKziG-fZ2d",
    "outputId": "f763450e-fa5c-4dd9-d483-85db6f725a0a"
   },
   "outputs": [
    {
     "data": {
      "text/plain": [
       "(625783, 77)"
      ]
     },
     "execution_count": 46,
     "metadata": {},
     "output_type": "execute_result"
    }
   ],
   "source": [
    "# drop columns with string values and values which are not fitting in float64\n",
    "df_copy = df.drop([\"Flow_ID\",\"Src_IP\",\"Dst_IP\",\"Timestamp\", \"Cat\",\"Sub_Cat\",\"Label\", \"Flow_Byts/s\", \"Flow_Pkts/s\"], axis=1)\n",
    "df_copy.shape"
   ]
  },
  {
   "cell_type": "code",
   "execution_count": 47,
   "metadata": {
    "colab": {
     "base_uri": "https://localhost:8080/"
    },
    "id": "GoGLYJsyjIwm",
    "outputId": "ca86b67e-c0f0-4b7a-ed55-87f6b04bde79"
   },
   "outputs": [
    {
     "name": "stdout",
     "output_type": "stream",
     "text": [
      "(625783, 77)\n",
      "(625783,)\n"
     ]
    }
   ],
   "source": [
    "# Binary Classification using Naive Bayes\n",
    "# Defining our features and target columns\n",
    "\n",
    "features = df[df_copy.columns]\n",
    "target = df[df.columns[-3]] \n",
    "print(features.shape)\n",
    "print(target.shape)"
   ]
  },
  {
   "cell_type": "code",
   "execution_count": 48,
   "metadata": {
    "colab": {
     "base_uri": "https://localhost:8080/"
    },
    "id": "AE4u-MjHjAzZ",
    "outputId": "3c2a67df-6895-4633-a6fd-376d07dff094"
   },
   "outputs": [
    {
     "data": {
      "text/plain": [
       "0         Anomaly\n",
       "1         Anomaly\n",
       "2         Anomaly\n",
       "3         Anomaly\n",
       "4         Anomaly\n",
       "           ...   \n",
       "625778    Anomaly\n",
       "625779    Anomaly\n",
       "625780    Anomaly\n",
       "625781     Normal\n",
       "625782    Anomaly\n",
       "Name: Label, Length: 625783, dtype: object"
      ]
     },
     "execution_count": 48,
     "metadata": {},
     "output_type": "execute_result"
    }
   ],
   "source": [
    "target"
   ]
  },
  {
   "cell_type": "code",
   "execution_count": 49,
   "metadata": {
    "id": "Fnzk14n-cwp2"
   },
   "outputs": [],
   "source": [
    "from sklearn.preprocessing import LabelEncoder\n",
    "le = LabelEncoder()\n",
    "target = le.fit_transform(target)"
   ]
  },
  {
   "cell_type": "code",
   "execution_count": 50,
   "metadata": {
    "colab": {
     "base_uri": "https://localhost:8080/"
    },
    "id": "oWD7ZTuYl0OE",
    "outputId": "e2cc82bc-d194-4775-a498-b8d9139d77a4"
   },
   "outputs": [
    {
     "data": {
      "text/plain": [
       "array([0, 0, 0, ..., 0, 1, 0])"
      ]
     },
     "execution_count": 50,
     "metadata": {},
     "output_type": "execute_result"
    }
   ],
   "source": [
    "target"
   ]
  },
  {
   "cell_type": "code",
   "execution_count": 51,
   "metadata": {
    "colab": {
     "base_uri": "https://localhost:8080/"
    },
    "id": "Yv4F-rTxc1f6",
    "outputId": "2bc949f6-b5d7-454b-fc38-85fc7cb5ab5d"
   },
   "outputs": [
    {
     "data": {
      "text/plain": [
       "array([[0],\n",
       "       [0],\n",
       "       [0],\n",
       "       ...,\n",
       "       [0],\n",
       "       [1],\n",
       "       [0]])"
      ]
     },
     "execution_count": 51,
     "metadata": {},
     "output_type": "execute_result"
    }
   ],
   "source": [
    "target = target.reshape(-1, 1)\n",
    "target"
   ]
  },
  {
   "cell_type": "code",
   "execution_count": 52,
   "metadata": {
    "id": "hps8tkMNc7ds"
   },
   "outputs": [],
   "source": [
    "from sklearn.preprocessing import StandardScaler, MinMaxScaler\n",
    "minMax= MinMaxScaler()\n",
    "features = minMax.fit_transform(features)\n",
    "sc = StandardScaler()\n",
    "features = sc.fit_transform(features)\n",
    "\n"
   ]
  },
  {
   "cell_type": "code",
   "execution_count": 53,
   "metadata": {
    "colab": {
     "base_uri": "https://localhost:8080/"
    },
    "id": "JJE8CIF4jMpD",
    "outputId": "fc7688fd-4587-4dbd-89ad-a256b3639ef2"
   },
   "outputs": [
    {
     "name": "stdout",
     "output_type": "stream",
     "text": [
      "(438048, 77)\n",
      "(187735, 77)\n",
      "(438048, 1)\n",
      "(187735, 1)\n"
     ]
    }
   ],
   "source": [
    "# Training Model\n",
    "\n",
    "from sklearn.model_selection import train_test_split \n",
    "X_train, X_test, y_train, y_test = train_test_split(features, target, test_size=0.3, random_state=1)\n",
    "\n",
    "print(X_train.shape) \n",
    "print(X_test.shape) \n",
    "\n",
    "print(y_train.shape) \n",
    "print(y_test.shape)"
   ]
  },
  {
   "cell_type": "code",
   "execution_count": 54,
   "metadata": {
    "colab": {
     "base_uri": "https://localhost:8080/"
    },
    "id": "j1dbp0ieoHsU",
    "outputId": "5219f61b-40c3-4792-a2fc-e6cb9e8d6f15"
   },
   "outputs": [
    {
     "name": "stderr",
     "output_type": "stream",
     "text": [
      "/usr/local/lib/python3.7/dist-packages/sklearn/utils/validation.py:993: DataConversionWarning: A column-vector y was passed when a 1d array was expected. Please change the shape of y to (n_samples, ), for example using ravel().\n",
      "  y = column_or_1d(y, warn=True)\n"
     ]
    },
    {
     "data": {
      "text/plain": [
       "GaussianNB()"
      ]
     },
     "execution_count": 54,
     "metadata": {},
     "output_type": "execute_result"
    }
   ],
   "source": [
    "from sklearn.naive_bayes import GaussianNB \n",
    "gnb = GaussianNB() \n",
    "gnb.fit(X_train, y_train)"
   ]
  },
  {
   "cell_type": "code",
   "execution_count": 55,
   "metadata": {
    "id": "ZG1mxjG1GMKA"
   },
   "outputs": [],
   "source": [
    "y_pred = gnb.predict(X_test)"
   ]
  },
  {
   "cell_type": "code",
   "execution_count": 56,
   "metadata": {
    "colab": {
     "base_uri": "https://localhost:8080/"
    },
    "id": "CI0amT6dGM9M",
    "outputId": "e61e7a0a-9e38-43a3-c554-8bdc1a642ab6"
   },
   "outputs": [
    {
     "name": "stdout",
     "output_type": "stream",
     "text": [
      "Naive Bayes model accuracy(in %): 53.54888539696914\n"
     ]
    }
   ],
   "source": [
    "from sklearn import metrics \n",
    "print(\"Naive Bayes model accuracy(in %):\", metrics.accuracy_score(y_test, y_pred)*100)"
   ]
  },
  {
   "cell_type": "code",
   "execution_count": 57,
   "metadata": {
    "colab": {
     "base_uri": "https://localhost:8080/"
    },
    "id": "lIjbwyCXqZl-",
    "outputId": "5ea480ea-0414-4ba1-cdcd-f85ecbb88f67"
   },
   "outputs": [
    {
     "name": "stdout",
     "output_type": "stream",
     "text": [
      "(625783, 77)\n",
      "(625783,)\n"
     ]
    }
   ],
   "source": [
    "#Multi class classification using Naive Bayes\n",
    "features2 = features\n",
    "target2 = df[df.columns[-1]] \n",
    "print(features2.shape)\n",
    "print(target2.shape)"
   ]
  },
  {
   "cell_type": "code",
   "execution_count": 58,
   "metadata": {
    "colab": {
     "base_uri": "https://localhost:8080/"
    },
    "id": "E4pS0NZ4nZaA",
    "outputId": "8e8f6104-4532-4d2e-b8da-602c797f7f99"
   },
   "outputs": [
    {
     "data": {
      "text/plain": [
       "0             Mirai-Ackflooding\n",
       "1               DoS-Synflooding\n",
       "2                  Scan Port OS\n",
       "3         Mirai-Hostbruteforceg\n",
       "4         Mirai-Hostbruteforceg\n",
       "                  ...          \n",
       "625778       Mirai-UDP Flooding\n",
       "625779          DoS-Synflooding\n",
       "625780             Scan Port OS\n",
       "625781                   Normal\n",
       "625782       Mirai-UDP Flooding\n",
       "Name: Sub_Cat, Length: 625783, dtype: object"
      ]
     },
     "execution_count": 58,
     "metadata": {},
     "output_type": "execute_result"
    }
   ],
   "source": [
    "target2"
   ]
  },
  {
   "cell_type": "code",
   "execution_count": 60,
   "metadata": {
    "colab": {
     "base_uri": "https://localhost:8080/"
    },
    "id": "-8DkPpcu9lhv",
    "outputId": "c4e485a0-bdb6-4551-f526-61bf03ba2a45"
   },
   "outputs": [
    {
     "data": {
      "text/plain": [
       "array([[2],\n",
       "       [0],\n",
       "       [8],\n",
       "       ...,\n",
       "       [8],\n",
       "       [6],\n",
       "       [5]])"
      ]
     },
     "execution_count": 60,
     "metadata": {},
     "output_type": "execute_result"
    }
   ],
   "source": [
    "target2 = le.fit_transform(target2).reshape(-1, 1)\n",
    "target2"
   ]
  },
  {
   "cell_type": "code",
   "execution_count": 61,
   "metadata": {
    "colab": {
     "base_uri": "https://localhost:8080/"
    },
    "id": "0Isj1R3vreLM",
    "outputId": "c931d34f-723f-4f67-8419-8648d637a738"
   },
   "outputs": [
    {
     "name": "stdout",
     "output_type": "stream",
     "text": [
      "(438048, 77)\n",
      "(187735, 77)\n",
      "(438048, 1)\n",
      "(187735, 1)\n"
     ]
    }
   ],
   "source": [
    "# Training Model\n",
    "\n",
    "from sklearn.model_selection import train_test_split \n",
    "X_train2, X_test2, y_train2, y_test2 = train_test_split(features2, target2, test_size=0.3, random_state=1)\n",
    "\n",
    "print(X_train2.shape) \n",
    "print(X_test2.shape) \n",
    "\n",
    "print(y_train2.shape) \n",
    "print(y_test2.shape)"
   ]
  },
  {
   "cell_type": "code",
   "execution_count": 164,
   "metadata": {
    "colab": {
     "base_uri": "https://localhost:8080/"
    },
    "id": "hBPSRPxUrpL5",
    "outputId": "3631239c-1516-4d99-d0bb-e4ae24a7b8c8"
   },
   "outputs": [
    {
     "name": "stderr",
     "output_type": "stream",
     "text": [
      "/usr/local/lib/python3.7/dist-packages/sklearn/utils/validation.py:993: DataConversionWarning: A column-vector y was passed when a 1d array was expected. Please change the shape of y to (n_samples, ), for example using ravel().\n",
      "  y = column_or_1d(y, warn=True)\n"
     ]
    },
    {
     "data": {
      "text/plain": [
       "GaussianNB(var_smoothing=0.001)"
      ]
     },
     "execution_count": 164,
     "metadata": {},
     "output_type": "execute_result"
    }
   ],
   "source": [
    "from sklearn.naive_bayes import GaussianNB \n",
    "gnb = GaussianNB(priors=None, var_smoothing=1e-03) \n",
    "gnb.fit(X_train2, y_train2)"
   ]
  },
  {
   "cell_type": "code",
   "execution_count": 165,
   "metadata": {
    "id": "WZBVRRbErvXx"
   },
   "outputs": [],
   "source": [
    "y_pred2 = gnb.predict(X_test2)"
   ]
  },
  {
   "cell_type": "code",
   "execution_count": 166,
   "metadata": {
    "colab": {
     "base_uri": "https://localhost:8080/"
    },
    "id": "FjiE4nK0r0fj",
    "outputId": "af866be7-0c71-474a-81c2-af077e658cd2"
   },
   "outputs": [
    {
     "name": "stdout",
     "output_type": "stream",
     "text": [
      "Naive Bayes Multi Class Classification model accuracy(in %): 48.68404932484619\n"
     ]
    }
   ],
   "source": [
    "from sklearn import metrics \n",
    "print(\"Naive Bayes Multi Class Classification model accuracy(in %):\", metrics.accuracy_score(y_test2, y_pred2)*100)"
   ]
  },
  {
   "cell_type": "code",
   "execution_count": 65,
   "metadata": {
    "id": "vn3Zg_mtsokO"
   },
   "outputs": [],
   "source": [
    "# Desision Trees\n",
    "from sklearn.tree import DecisionTreeClassifier # Import Decision Tree Classifier\n",
    "from sklearn.model_selection import train_test_split # Import train_test_split function\n",
    "from sklearn import metrics #Import scikit-learn metrics module for accuracy calculation"
   ]
  },
  {
   "cell_type": "code",
   "execution_count": 66,
   "metadata": {
    "id": "DntpsEq3secK"
   },
   "outputs": [],
   "source": [
    "# Binary class Classification with decision trees\n",
    "# We will use binary classification variables in this case i.e x_train, y_train etc\n",
    "# Create Decision Tree classifer object\n",
    "clf = DecisionTreeClassifier()\n",
    "\n",
    "# Train Decision Tree Classifer\n",
    "clf = clf.fit(X_train,y_train)\n",
    "\n",
    "#Predict the response for test dataset\n",
    "y_pred_tree = clf.predict(X_test)"
   ]
  },
  {
   "cell_type": "code",
   "execution_count": 67,
   "metadata": {
    "colab": {
     "base_uri": "https://localhost:8080/"
    },
    "id": "XgevKSxutcD4",
    "outputId": "f7576479-adf6-475d-979e-bb2590171285"
   },
   "outputs": [
    {
     "name": "stdout",
     "output_type": "stream",
     "text": [
      "Accuracy Decision Tree Binary class classification: 0.9991477348390018\n"
     ]
    }
   ],
   "source": [
    "# Model Accuracy\n",
    "print(\"Accuracy Decision Tree Binary class classification:\",metrics.accuracy_score(y_test, y_pred_tree))"
   ]
  },
  {
   "cell_type": "code",
   "execution_count": 136,
   "metadata": {
    "id": "IXRKx5MstuW4"
   },
   "outputs": [],
   "source": [
    "# Multi class Classification with decision trees\n",
    "# We will use multi class classification variables in this case i.e x_train2, y_train2 etc\n",
    "# Create Decision Tree classifer object\n",
    "clf = DecisionTreeClassifier(max_depth=18, max_features=74)\n",
    "\n",
    "# Train Decision Tree Classifer\n",
    "clf = clf.fit(X_train2,y_train2)\n",
    "\n",
    "#Predict the response for test dataset\n",
    "y_pred_tree2 = clf.predict(X_test2)"
   ]
  },
  {
   "cell_type": "code",
   "execution_count": 137,
   "metadata": {
    "colab": {
     "base_uri": "https://localhost:8080/"
    },
    "id": "7HsB4sXJt-X3",
    "outputId": "b9721b76-6870-456e-86df-dc0c60b83bce"
   },
   "outputs": [
    {
     "name": "stdout",
     "output_type": "stream",
     "text": [
      "Accuracy Decision Tree multi class classification: 0.7864915971981783\n"
     ]
    }
   ],
   "source": [
    "# Model Accuracy with multi class classification\n",
    "print(\"Accuracy Decision Tree multi class classification:\",metrics.accuracy_score(y_test2, y_pred_tree2))"
   ]
  }
 ],
 "metadata": {
  "accelerator": "GPU",
  "colab": {
   "collapsed_sections": [],
   "name": "NaiveBayes_DecisionTrees.ipynb",
   "provenance": []
  },
  "kernelspec": {
   "display_name": "Python 3",
   "language": "python",
   "name": "python3"
  },
  "language_info": {
   "codemirror_mode": {
    "name": "ipython",
    "version": 3
   },
   "file_extension": ".py",
   "mimetype": "text/x-python",
   "name": "python",
   "nbconvert_exporter": "python",
   "pygments_lexer": "ipython3",
   "version": "3.8.8"
  }
 },
 "nbformat": 4,
 "nbformat_minor": 1
}
