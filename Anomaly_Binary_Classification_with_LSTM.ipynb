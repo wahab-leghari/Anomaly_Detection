{
 "cells": [
  {
   "cell_type": "markdown",
   "metadata": {
    "id": "9XIn0pc-REs7"
   },
   "source": [
    "**IMPORTING LIBRARIES**"
   ]
  },
  {
   "cell_type": "code",
   "execution_count": 124,
   "metadata": {
    "id": "pVe4jyzLOB58"
   },
   "outputs": [],
   "source": [
    "import tensorflow as tf\n",
    "import pandas as pd\n",
    "import numpy as np\n",
    "from sklearn.model_selection import train_test_split\n",
    "from sklearn.preprocessing import MinMaxScaler\n",
    "from sklearn.preprocessing import StandardScaler\n",
    "from tensorflow.keras.models import Sequential\n",
    "from tensorflow.keras.layers import Dense, BatchNormalization\n",
    "import matplotlib.pyplot as plt\n",
    "\n",
    "from tensorflow.keras.layers import Dense, LSTM, Dropout, GRU, Bidirectional\n",
    "from tensorflow.keras.optimizers import SGD\n",
    "import math\n",
    "from sklearn.metrics import mean_squared_error"
   ]
  },
  {
   "cell_type": "markdown",
   "metadata": {
    "id": "mj6zuRtzRRee"
   },
   "source": [
    "**LOADING DATASET**"
   ]
  },
  {
   "cell_type": "code",
   "execution_count": 2,
   "metadata": {
    "colab": {
     "base_uri": "https://localhost:8080/"
    },
    "id": "kUEwoG_UXV_A",
    "outputId": "1463008d-74e4-4384-bece-17cb10d6b0db"
   },
   "outputs": [
    {
     "name": "stdout",
     "output_type": "stream",
     "text": [
      "Mounted at /content/drive\n"
     ]
    }
   ],
   "source": [
    "from google.colab import drive\n",
    "drive.mount('/content/drive')"
   ]
  },
  {
   "cell_type": "code",
   "execution_count": 125,
   "metadata": {
    "colab": {
     "base_uri": "https://localhost:8080/",
     "height": 835
    },
    "id": "YEMlRPAVRwH5",
    "outputId": "4950bc04-dd10-4791-e367-84a8fa3e3806"
   },
   "outputs": [
    {
     "data": {
      "text/html": [
       "\n",
       "  <div id=\"df-76e523ad-7432-4e2c-9ad6-0d584a1ccae7\">\n",
       "    <div class=\"colab-df-container\">\n",
       "      <div>\n",
       "<style scoped>\n",
       "    .dataframe tbody tr th:only-of-type {\n",
       "        vertical-align: middle;\n",
       "    }\n",
       "\n",
       "    .dataframe tbody tr th {\n",
       "        vertical-align: top;\n",
       "    }\n",
       "\n",
       "    .dataframe thead th {\n",
       "        text-align: right;\n",
       "    }\n",
       "</style>\n",
       "<table border=\"1\" class=\"dataframe\">\n",
       "  <thead>\n",
       "    <tr style=\"text-align: right;\">\n",
       "      <th></th>\n",
       "      <th>Flow_ID</th>\n",
       "      <th>Src_IP</th>\n",
       "      <th>Src_Port</th>\n",
       "      <th>Dst_IP</th>\n",
       "      <th>Dst_Port</th>\n",
       "      <th>Protocol</th>\n",
       "      <th>Timestamp</th>\n",
       "      <th>Flow_Duration</th>\n",
       "      <th>Tot_Fwd_Pkts</th>\n",
       "      <th>Tot_Bwd_Pkts</th>\n",
       "      <th>...</th>\n",
       "      <th>Active_Std</th>\n",
       "      <th>Active_Max</th>\n",
       "      <th>Active_Min</th>\n",
       "      <th>Idle_Mean</th>\n",
       "      <th>Idle_Std</th>\n",
       "      <th>Idle_Max</th>\n",
       "      <th>Idle_Min</th>\n",
       "      <th>Label</th>\n",
       "      <th>Cat</th>\n",
       "      <th>Sub_Cat</th>\n",
       "    </tr>\n",
       "  </thead>\n",
       "  <tbody>\n",
       "    <tr>\n",
       "      <th>0</th>\n",
       "      <td>192.168.0.13-192.168.0.16-10000-10101-17</td>\n",
       "      <td>192.168.0.13</td>\n",
       "      <td>10000</td>\n",
       "      <td>192.168.0.16</td>\n",
       "      <td>10101</td>\n",
       "      <td>17</td>\n",
       "      <td>25/07/2019 03:25:53 AM</td>\n",
       "      <td>75</td>\n",
       "      <td>1</td>\n",
       "      <td>1</td>\n",
       "      <td>...</td>\n",
       "      <td>0.0</td>\n",
       "      <td>0.0</td>\n",
       "      <td>0.0</td>\n",
       "      <td>75.0</td>\n",
       "      <td>0.000000</td>\n",
       "      <td>75.0</td>\n",
       "      <td>75.0</td>\n",
       "      <td>Anomaly</td>\n",
       "      <td>Mirai</td>\n",
       "      <td>Mirai-Ackflooding</td>\n",
       "    </tr>\n",
       "    <tr>\n",
       "      <th>1</th>\n",
       "      <td>192.168.0.13-222.160.179.132-554-2179-6</td>\n",
       "      <td>222.160.179.132</td>\n",
       "      <td>2179</td>\n",
       "      <td>192.168.0.13</td>\n",
       "      <td>554</td>\n",
       "      <td>6</td>\n",
       "      <td>26/05/2019 10:11:06 PM</td>\n",
       "      <td>5310</td>\n",
       "      <td>1</td>\n",
       "      <td>2</td>\n",
       "      <td>...</td>\n",
       "      <td>0.0</td>\n",
       "      <td>0.0</td>\n",
       "      <td>0.0</td>\n",
       "      <td>2655.0</td>\n",
       "      <td>2261.327486</td>\n",
       "      <td>4254.0</td>\n",
       "      <td>1056.0</td>\n",
       "      <td>Anomaly</td>\n",
       "      <td>DoS</td>\n",
       "      <td>DoS-Synflooding</td>\n",
       "    </tr>\n",
       "    <tr>\n",
       "      <th>2</th>\n",
       "      <td>192.168.0.13-192.168.0.16-9020-52727-6</td>\n",
       "      <td>192.168.0.16</td>\n",
       "      <td>52727</td>\n",
       "      <td>192.168.0.13</td>\n",
       "      <td>9020</td>\n",
       "      <td>6</td>\n",
       "      <td>11/07/2019 01:24:48 AM</td>\n",
       "      <td>141</td>\n",
       "      <td>0</td>\n",
       "      <td>3</td>\n",
       "      <td>...</td>\n",
       "      <td>0.0</td>\n",
       "      <td>0.0</td>\n",
       "      <td>0.0</td>\n",
       "      <td>70.5</td>\n",
       "      <td>0.707107</td>\n",
       "      <td>71.0</td>\n",
       "      <td>70.0</td>\n",
       "      <td>Anomaly</td>\n",
       "      <td>Scan</td>\n",
       "      <td>Scan Port OS</td>\n",
       "    </tr>\n",
       "    <tr>\n",
       "      <th>3</th>\n",
       "      <td>192.168.0.13-192.168.0.16-9020-52964-6</td>\n",
       "      <td>192.168.0.16</td>\n",
       "      <td>52964</td>\n",
       "      <td>192.168.0.13</td>\n",
       "      <td>9020</td>\n",
       "      <td>6</td>\n",
       "      <td>04/09/2019 03:58:17 AM</td>\n",
       "      <td>151</td>\n",
       "      <td>0</td>\n",
       "      <td>2</td>\n",
       "      <td>...</td>\n",
       "      <td>0.0</td>\n",
       "      <td>0.0</td>\n",
       "      <td>0.0</td>\n",
       "      <td>151.0</td>\n",
       "      <td>0.000000</td>\n",
       "      <td>151.0</td>\n",
       "      <td>151.0</td>\n",
       "      <td>Anomaly</td>\n",
       "      <td>Mirai</td>\n",
       "      <td>Mirai-Hostbruteforceg</td>\n",
       "    </tr>\n",
       "    <tr>\n",
       "      <th>4</th>\n",
       "      <td>192.168.0.1-239.255.255.250-36763-1900-17</td>\n",
       "      <td>192.168.0.1</td>\n",
       "      <td>36763</td>\n",
       "      <td>239.255.255.250</td>\n",
       "      <td>1900</td>\n",
       "      <td>17</td>\n",
       "      <td>10/09/2019 01:41:18 AM</td>\n",
       "      <td>153</td>\n",
       "      <td>2</td>\n",
       "      <td>1</td>\n",
       "      <td>...</td>\n",
       "      <td>0.0</td>\n",
       "      <td>0.0</td>\n",
       "      <td>0.0</td>\n",
       "      <td>76.5</td>\n",
       "      <td>0.707107</td>\n",
       "      <td>77.0</td>\n",
       "      <td>76.0</td>\n",
       "      <td>Anomaly</td>\n",
       "      <td>Mirai</td>\n",
       "      <td>Mirai-Hostbruteforceg</td>\n",
       "    </tr>\n",
       "    <tr>\n",
       "      <th>...</th>\n",
       "      <td>...</td>\n",
       "      <td>...</td>\n",
       "      <td>...</td>\n",
       "      <td>...</td>\n",
       "      <td>...</td>\n",
       "      <td>...</td>\n",
       "      <td>...</td>\n",
       "      <td>...</td>\n",
       "      <td>...</td>\n",
       "      <td>...</td>\n",
       "      <td>...</td>\n",
       "      <td>...</td>\n",
       "      <td>...</td>\n",
       "      <td>...</td>\n",
       "      <td>...</td>\n",
       "      <td>...</td>\n",
       "      <td>...</td>\n",
       "      <td>...</td>\n",
       "      <td>...</td>\n",
       "      <td>...</td>\n",
       "      <td>...</td>\n",
       "    </tr>\n",
       "    <tr>\n",
       "      <th>625778</th>\n",
       "      <td>192.168.0.24-210.89.164.90-56112-8043-17</td>\n",
       "      <td>192.168.0.24</td>\n",
       "      <td>56112</td>\n",
       "      <td>210.89.164.90</td>\n",
       "      <td>8043</td>\n",
       "      <td>17</td>\n",
       "      <td>25/07/2019 03:25:00 AM</td>\n",
       "      <td>277</td>\n",
       "      <td>1</td>\n",
       "      <td>1</td>\n",
       "      <td>...</td>\n",
       "      <td>0.0</td>\n",
       "      <td>0.0</td>\n",
       "      <td>0.0</td>\n",
       "      <td>277.0</td>\n",
       "      <td>0.000000</td>\n",
       "      <td>277.0</td>\n",
       "      <td>277.0</td>\n",
       "      <td>Anomaly</td>\n",
       "      <td>Mirai</td>\n",
       "      <td>Mirai-UDP Flooding</td>\n",
       "    </tr>\n",
       "    <tr>\n",
       "      <th>625779</th>\n",
       "      <td>192.168.0.13-222.131.171.244-554-4570-6</td>\n",
       "      <td>222.131.171.244</td>\n",
       "      <td>4570</td>\n",
       "      <td>192.168.0.13</td>\n",
       "      <td>554</td>\n",
       "      <td>6</td>\n",
       "      <td>26/05/2019 10:06:51 PM</td>\n",
       "      <td>1658</td>\n",
       "      <td>0</td>\n",
       "      <td>2</td>\n",
       "      <td>...</td>\n",
       "      <td>0.0</td>\n",
       "      <td>0.0</td>\n",
       "      <td>0.0</td>\n",
       "      <td>1658.0</td>\n",
       "      <td>0.000000</td>\n",
       "      <td>1658.0</td>\n",
       "      <td>1658.0</td>\n",
       "      <td>Anomaly</td>\n",
       "      <td>DoS</td>\n",
       "      <td>DoS-Synflooding</td>\n",
       "    </tr>\n",
       "    <tr>\n",
       "      <th>625780</th>\n",
       "      <td>192.168.0.13-192.168.0.16-9020-52739-6</td>\n",
       "      <td>192.168.0.16</td>\n",
       "      <td>52739</td>\n",
       "      <td>192.168.0.13</td>\n",
       "      <td>9020</td>\n",
       "      <td>6</td>\n",
       "      <td>11/07/2019 01:29:09 AM</td>\n",
       "      <td>77</td>\n",
       "      <td>1</td>\n",
       "      <td>1</td>\n",
       "      <td>...</td>\n",
       "      <td>0.0</td>\n",
       "      <td>0.0</td>\n",
       "      <td>0.0</td>\n",
       "      <td>77.0</td>\n",
       "      <td>0.000000</td>\n",
       "      <td>77.0</td>\n",
       "      <td>77.0</td>\n",
       "      <td>Anomaly</td>\n",
       "      <td>Scan</td>\n",
       "      <td>Scan Port OS</td>\n",
       "    </tr>\n",
       "    <tr>\n",
       "      <th>625781</th>\n",
       "      <td>192.168.0.13-192.168.0.16-9020-49784-6</td>\n",
       "      <td>192.168.0.13</td>\n",
       "      <td>9020</td>\n",
       "      <td>192.168.0.16</td>\n",
       "      <td>49784</td>\n",
       "      <td>6</td>\n",
       "      <td>20/05/2019 05:00:29 AM</td>\n",
       "      <td>240</td>\n",
       "      <td>2</td>\n",
       "      <td>1</td>\n",
       "      <td>...</td>\n",
       "      <td>0.0</td>\n",
       "      <td>0.0</td>\n",
       "      <td>0.0</td>\n",
       "      <td>120.0</td>\n",
       "      <td>7.071068</td>\n",
       "      <td>125.0</td>\n",
       "      <td>115.0</td>\n",
       "      <td>Normal</td>\n",
       "      <td>Normal</td>\n",
       "      <td>Normal</td>\n",
       "    </tr>\n",
       "    <tr>\n",
       "      <th>625782</th>\n",
       "      <td>192.168.0.13-192.168.0.16-10000-10101-17</td>\n",
       "      <td>192.168.0.13</td>\n",
       "      <td>10000</td>\n",
       "      <td>192.168.0.16</td>\n",
       "      <td>10101</td>\n",
       "      <td>17</td>\n",
       "      <td>25/07/2019 03:25:10 AM</td>\n",
       "      <td>198</td>\n",
       "      <td>2</td>\n",
       "      <td>1</td>\n",
       "      <td>...</td>\n",
       "      <td>0.0</td>\n",
       "      <td>0.0</td>\n",
       "      <td>0.0</td>\n",
       "      <td>99.0</td>\n",
       "      <td>32.526912</td>\n",
       "      <td>122.0</td>\n",
       "      <td>76.0</td>\n",
       "      <td>Anomaly</td>\n",
       "      <td>Mirai</td>\n",
       "      <td>Mirai-UDP Flooding</td>\n",
       "    </tr>\n",
       "  </tbody>\n",
       "</table>\n",
       "<p>625783 rows × 86 columns</p>\n",
       "</div>\n",
       "      <button class=\"colab-df-convert\" onclick=\"convertToInteractive('df-76e523ad-7432-4e2c-9ad6-0d584a1ccae7')\"\n",
       "              title=\"Convert this dataframe to an interactive table.\"\n",
       "              style=\"display:none;\">\n",
       "        \n",
       "  <svg xmlns=\"http://www.w3.org/2000/svg\" height=\"24px\"viewBox=\"0 0 24 24\"\n",
       "       width=\"24px\">\n",
       "    <path d=\"M0 0h24v24H0V0z\" fill=\"none\"/>\n",
       "    <path d=\"M18.56 5.44l.94 2.06.94-2.06 2.06-.94-2.06-.94-.94-2.06-.94 2.06-2.06.94zm-11 1L8.5 8.5l.94-2.06 2.06-.94-2.06-.94L8.5 2.5l-.94 2.06-2.06.94zm10 10l.94 2.06.94-2.06 2.06-.94-2.06-.94-.94-2.06-.94 2.06-2.06.94z\"/><path d=\"M17.41 7.96l-1.37-1.37c-.4-.4-.92-.59-1.43-.59-.52 0-1.04.2-1.43.59L10.3 9.45l-7.72 7.72c-.78.78-.78 2.05 0 2.83L4 21.41c.39.39.9.59 1.41.59.51 0 1.02-.2 1.41-.59l7.78-7.78 2.81-2.81c.8-.78.8-2.07 0-2.86zM5.41 20L4 18.59l7.72-7.72 1.47 1.35L5.41 20z\"/>\n",
       "  </svg>\n",
       "      </button>\n",
       "      \n",
       "  <style>\n",
       "    .colab-df-container {\n",
       "      display:flex;\n",
       "      flex-wrap:wrap;\n",
       "      gap: 12px;\n",
       "    }\n",
       "\n",
       "    .colab-df-convert {\n",
       "      background-color: #E8F0FE;\n",
       "      border: none;\n",
       "      border-radius: 50%;\n",
       "      cursor: pointer;\n",
       "      display: none;\n",
       "      fill: #1967D2;\n",
       "      height: 32px;\n",
       "      padding: 0 0 0 0;\n",
       "      width: 32px;\n",
       "    }\n",
       "\n",
       "    .colab-df-convert:hover {\n",
       "      background-color: #E2EBFA;\n",
       "      box-shadow: 0px 1px 2px rgba(60, 64, 67, 0.3), 0px 1px 3px 1px rgba(60, 64, 67, 0.15);\n",
       "      fill: #174EA6;\n",
       "    }\n",
       "\n",
       "    [theme=dark] .colab-df-convert {\n",
       "      background-color: #3B4455;\n",
       "      fill: #D2E3FC;\n",
       "    }\n",
       "\n",
       "    [theme=dark] .colab-df-convert:hover {\n",
       "      background-color: #434B5C;\n",
       "      box-shadow: 0px 1px 3px 1px rgba(0, 0, 0, 0.15);\n",
       "      filter: drop-shadow(0px 1px 2px rgba(0, 0, 0, 0.3));\n",
       "      fill: #FFFFFF;\n",
       "    }\n",
       "  </style>\n",
       "\n",
       "      <script>\n",
       "        const buttonEl =\n",
       "          document.querySelector('#df-76e523ad-7432-4e2c-9ad6-0d584a1ccae7 button.colab-df-convert');\n",
       "        buttonEl.style.display =\n",
       "          google.colab.kernel.accessAllowed ? 'block' : 'none';\n",
       "\n",
       "        async function convertToInteractive(key) {\n",
       "          const element = document.querySelector('#df-76e523ad-7432-4e2c-9ad6-0d584a1ccae7');\n",
       "          const dataTable =\n",
       "            await google.colab.kernel.invokeFunction('convertToInteractive',\n",
       "                                                     [key], {});\n",
       "          if (!dataTable) return;\n",
       "\n",
       "          const docLinkHtml = 'Like what you see? Visit the ' +\n",
       "            '<a target=\"_blank\" href=https://colab.research.google.com/notebooks/data_table.ipynb>data table notebook</a>'\n",
       "            + ' to learn more about interactive tables.';\n",
       "          element.innerHTML = '';\n",
       "          dataTable['output_type'] = 'display_data';\n",
       "          await google.colab.output.renderOutput(dataTable, element);\n",
       "          const docLink = document.createElement('div');\n",
       "          docLink.innerHTML = docLinkHtml;\n",
       "          element.appendChild(docLink);\n",
       "        }\n",
       "      </script>\n",
       "    </div>\n",
       "  </div>\n",
       "  "
      ],
      "text/plain": [
       "                                          Flow_ID           Src_IP  Src_Port  \\\n",
       "0        192.168.0.13-192.168.0.16-10000-10101-17     192.168.0.13     10000   \n",
       "1         192.168.0.13-222.160.179.132-554-2179-6  222.160.179.132      2179   \n",
       "2          192.168.0.13-192.168.0.16-9020-52727-6     192.168.0.16     52727   \n",
       "3          192.168.0.13-192.168.0.16-9020-52964-6     192.168.0.16     52964   \n",
       "4       192.168.0.1-239.255.255.250-36763-1900-17      192.168.0.1     36763   \n",
       "...                                           ...              ...       ...   \n",
       "625778   192.168.0.24-210.89.164.90-56112-8043-17     192.168.0.24     56112   \n",
       "625779    192.168.0.13-222.131.171.244-554-4570-6  222.131.171.244      4570   \n",
       "625780     192.168.0.13-192.168.0.16-9020-52739-6     192.168.0.16     52739   \n",
       "625781     192.168.0.13-192.168.0.16-9020-49784-6     192.168.0.13      9020   \n",
       "625782   192.168.0.13-192.168.0.16-10000-10101-17     192.168.0.13     10000   \n",
       "\n",
       "                 Dst_IP  Dst_Port  Protocol               Timestamp  \\\n",
       "0          192.168.0.16     10101        17  25/07/2019 03:25:53 AM   \n",
       "1          192.168.0.13       554         6  26/05/2019 10:11:06 PM   \n",
       "2          192.168.0.13      9020         6  11/07/2019 01:24:48 AM   \n",
       "3          192.168.0.13      9020         6  04/09/2019 03:58:17 AM   \n",
       "4       239.255.255.250      1900        17  10/09/2019 01:41:18 AM   \n",
       "...                 ...       ...       ...                     ...   \n",
       "625778    210.89.164.90      8043        17  25/07/2019 03:25:00 AM   \n",
       "625779     192.168.0.13       554         6  26/05/2019 10:06:51 PM   \n",
       "625780     192.168.0.13      9020         6  11/07/2019 01:29:09 AM   \n",
       "625781     192.168.0.16     49784         6  20/05/2019 05:00:29 AM   \n",
       "625782     192.168.0.16     10101        17  25/07/2019 03:25:10 AM   \n",
       "\n",
       "        Flow_Duration  Tot_Fwd_Pkts  Tot_Bwd_Pkts  ...  Active_Std  \\\n",
       "0                  75             1             1  ...         0.0   \n",
       "1                5310             1             2  ...         0.0   \n",
       "2                 141             0             3  ...         0.0   \n",
       "3                 151             0             2  ...         0.0   \n",
       "4                 153             2             1  ...         0.0   \n",
       "...               ...           ...           ...  ...         ...   \n",
       "625778            277             1             1  ...         0.0   \n",
       "625779           1658             0             2  ...         0.0   \n",
       "625780             77             1             1  ...         0.0   \n",
       "625781            240             2             1  ...         0.0   \n",
       "625782            198             2             1  ...         0.0   \n",
       "\n",
       "        Active_Max  Active_Min  Idle_Mean     Idle_Std  Idle_Max  Idle_Min  \\\n",
       "0              0.0         0.0       75.0     0.000000      75.0      75.0   \n",
       "1              0.0         0.0     2655.0  2261.327486    4254.0    1056.0   \n",
       "2              0.0         0.0       70.5     0.707107      71.0      70.0   \n",
       "3              0.0         0.0      151.0     0.000000     151.0     151.0   \n",
       "4              0.0         0.0       76.5     0.707107      77.0      76.0   \n",
       "...            ...         ...        ...          ...       ...       ...   \n",
       "625778         0.0         0.0      277.0     0.000000     277.0     277.0   \n",
       "625779         0.0         0.0     1658.0     0.000000    1658.0    1658.0   \n",
       "625780         0.0         0.0       77.0     0.000000      77.0      77.0   \n",
       "625781         0.0         0.0      120.0     7.071068     125.0     115.0   \n",
       "625782         0.0         0.0       99.0    32.526912     122.0      76.0   \n",
       "\n",
       "          Label     Cat                Sub_Cat  \n",
       "0       Anomaly   Mirai      Mirai-Ackflooding  \n",
       "1       Anomaly     DoS        DoS-Synflooding  \n",
       "2       Anomaly    Scan           Scan Port OS  \n",
       "3       Anomaly   Mirai  Mirai-Hostbruteforceg  \n",
       "4       Anomaly   Mirai  Mirai-Hostbruteforceg  \n",
       "...         ...     ...                    ...  \n",
       "625778  Anomaly   Mirai     Mirai-UDP Flooding  \n",
       "625779  Anomaly     DoS        DoS-Synflooding  \n",
       "625780  Anomaly    Scan           Scan Port OS  \n",
       "625781   Normal  Normal                 Normal  \n",
       "625782  Anomaly   Mirai     Mirai-UDP Flooding  \n",
       "\n",
       "[625783 rows x 86 columns]"
      ]
     },
     "execution_count": 125,
     "metadata": {},
     "output_type": "execute_result"
    }
   ],
   "source": [
    "data =pd.read_csv('/content/drive/MyDrive/IoT Network Intrusion Dataset/IoT Network Intrusion Dataset.csv')\n",
    "data"
   ]
  },
  {
   "cell_type": "markdown",
   "metadata": {
    "id": "_9HzEhdCXz73"
   },
   "source": [
    "**PREPROCESSING AND DATA CLEANING**"
   ]
  },
  {
   "cell_type": "code",
   "execution_count": 126,
   "metadata": {
    "id": "I6rAO_BERW4T"
   },
   "outputs": [],
   "source": [
    "def clean_dataset(df):\n",
    "    assert isinstance(df, pd.DataFrame), \"df needs to be a pd.DataFrame\"\n",
    "    df.dropna(inplace=True)\n",
    "    indices_to_keep = ~df.isin([np.nan, np.inf, -np.inf]).any(1)\n",
    "    return df[indices_to_keep]\n",
    "data=clean_dataset(data)\n",
    "data = data.to_numpy()"
   ]
  },
  {
   "cell_type": "markdown",
   "metadata": {
    "id": "I3l2TKVIU5HD"
   },
   "source": [
    "**LABEL ENCODING & Data Standardization**"
   ]
  },
  {
   "cell_type": "code",
   "execution_count": 127,
   "metadata": {
    "id": "CfbcGPnsU-mH"
   },
   "outputs": [],
   "source": [
    "np.random.shuffle(data) \n",
    "X=data[:,7:83]\n",
    "Y=data[:,83]\n",
    "Y[Y=='Anomaly']=0\n",
    "Y[Y=='Normal']=1\n",
    "minMax= MinMaxScaler()\n",
    "X = minMax.fit_transform(X)\n",
    "std = StandardScaler()\n",
    "X = std.fit_transform(X)"
   ]
  },
  {
   "cell_type": "markdown",
   "metadata": {
    "id": "CQ65WNAiToaL"
   },
   "source": [
    "**SPLITING DATA**"
   ]
  },
  {
   "cell_type": "code",
   "execution_count": 128,
   "metadata": {
    "id": "ueIHC9irSKtG"
   },
   "outputs": [],
   "source": [
    "X_train, X_test, y_train, y_test = train_test_split(X, Y, test_size=0.3, random_state=22)"
   ]
  },
  {
   "cell_type": "markdown",
   "metadata": {
    "id": "P9MXSdLifseX"
   },
   "source": [
    "**LSTM MODEL FOR BINARY CLASSIFICATION**"
   ]
  },
  {
   "cell_type": "code",
   "execution_count": 129,
   "metadata": {
    "id": "n_SRNuxnUOya"
   },
   "outputs": [],
   "source": [
    "# The LSTM architecture\n",
    "classifier = Sequential()\n",
    "# First LSTM layer with Dropout regularisation\n",
    "classifier.add(LSTM(units=50, return_sequences=True, input_shape=(X_train.shape[1],1)))\n",
    "classifier.add(Dropout(0.2))\n",
    "# Second LSTM layer\n",
    "classifier.add(LSTM(units=50, return_sequences=True))\n",
    "classifier.add(Dropout(0.2))\n",
    "# Third LSTM layer\n",
    "classifier.add(LSTM(units=50, return_sequences=True))\n",
    "classifier.add(Dropout(0.2))\n",
    "# Fourth LSTM layer\n",
    "classifier.add(LSTM(units=50))\n",
    "classifier.add(Dropout(0.2))\n",
    "# The output layer\n",
    "classifier.add(Dense(units=1))\n",
    "\n",
    "\n"
   ]
  },
  {
   "cell_type": "markdown",
   "metadata": {
    "id": "-bmn9vXJgpGB"
   },
   "source": [
    "**COMPILING AND TRAINING LSTM MODEL**"
   ]
  },
  {
   "cell_type": "code",
   "execution_count": 130,
   "metadata": {
    "colab": {
     "base_uri": "https://localhost:8080/"
    },
    "id": "w3Lac_i_ginb",
    "outputId": "c6b49ab1-d9f6-41cf-f0c1-c5399afad6d4"
   },
   "outputs": [
    {
     "name": "stdout",
     "output_type": "stream",
     "text": [
      "(437790, 76)\n",
      "(437790,)\n",
      "Epoch 1/10\n",
      "1095/1095 [==============================] - 35s 25ms/step - loss: 0.2051 - accuracy: 0.9433\n",
      "Epoch 2/10\n",
      "1095/1095 [==============================] - 26s 23ms/step - loss: 0.1628 - accuracy: 0.9519\n",
      "Epoch 3/10\n",
      "1095/1095 [==============================] - 25s 23ms/step - loss: 0.1505 - accuracy: 0.9575\n",
      "Epoch 4/10\n",
      "1095/1095 [==============================] - 26s 23ms/step - loss: 0.1277 - accuracy: 0.9693\n",
      "Epoch 5/10\n",
      "1095/1095 [==============================] - 25s 23ms/step - loss: 0.1069 - accuracy: 0.9772\n",
      "Epoch 6/10\n",
      "1095/1095 [==============================] - 25s 23ms/step - loss: 0.1040 - accuracy: 0.9793\n",
      "Epoch 7/10\n",
      "1095/1095 [==============================] - 25s 23ms/step - loss: 0.0955 - accuracy: 0.9819\n",
      "Epoch 8/10\n",
      "1095/1095 [==============================] - 25s 23ms/step - loss: 0.0935 - accuracy: 0.9829\n",
      "Epoch 9/10\n",
      "1095/1095 [==============================] - 25s 23ms/step - loss: 0.0876 - accuracy: 0.9834\n",
      "Epoch 10/10\n",
      "1095/1095 [==============================] - 25s 23ms/step - loss: 0.0855 - accuracy: 0.9840\n"
     ]
    }
   ],
   "source": [
    "classifier.compile(optimizer='rmsprop', loss='binary_crossentropy', metrics=['accuracy'])\n",
    "X_train = tf.convert_to_tensor(X_train,np.float32)\n",
    "y_train = tf.convert_to_tensor(y_train,np.float32)\n",
    "print(X_train.shape)\n",
    "print(y_train.shape)\n",
    "history=classifier.fit(X_train, y_train,epochs=10, batch_size=400)"
   ]
  },
  {
   "cell_type": "markdown",
   "metadata": {
    "id": "UkleByDdWzcZ"
   },
   "source": [
    "**EVALUTATING MODEL**"
   ]
  },
  {
   "cell_type": "code",
   "execution_count": 131,
   "metadata": {
    "colab": {
     "base_uri": "https://localhost:8080/"
    },
    "id": "KzG0_xH8hYUJ",
    "outputId": "5d6b7fe8-4550-4c5c-9b48-7d12df35e51e"
   },
   "outputs": [
    {
     "name": "stdout",
     "output_type": "stream",
     "text": [
      "5864/5864 [==============================] - 48s 8ms/step - loss: 0.0785 - accuracy: 0.9831\n",
      "Loss:  0.07847286015748978\n",
      "Accuracy:  98.31472635269165\n"
     ]
    }
   ],
   "source": [
    "loss,accuracy = classifier.evaluate(tf.convert_to_tensor(X_test,np.float32),tf.convert_to_tensor(y_test,np.float32))\n",
    "print(\"Loss: \", loss)\n",
    "print('Accuracy: ',accuracy*100)"
   ]
  },
  {
   "cell_type": "markdown",
   "metadata": {
    "id": "0M-Mu2DX555V"
   },
   "source": [
    "**Visualizing Results**"
   ]
  },
  {
   "cell_type": "code",
   "execution_count": 132,
   "metadata": {
    "colab": {
     "base_uri": "https://localhost:8080/",
     "height": 573
    },
    "id": "V9nIGsQGXhqG",
    "outputId": "b9ca8ece-0eb8-4008-f0b8-a1f3fdb3cbde"
   },
   "outputs": [
    {
     "data": {
      "image/png": "[encoded data removed]",
      "text/plain": [
       "<Figure size 432x288 with 1 Axes>"
      ]
     },
     "metadata": {
      "needs_background": "light"
     },
     "output_type": "display_data"
    },
    {
     "data": {
      "image/png": "[encoded data removed]",
      "text/plain": [
       "<Figure size 432x288 with 1 Axes>"
      ]
     },
     "metadata": {
      "needs_background": "light"
     },
     "output_type": "display_data"
    }
   ],
   "source": [
    "# summarize history for accuracy\n",
    "plt.plot(history.history['accuracy'])\n",
    "plt.title('Model Accuracy')\n",
    "plt.ylabel('Accuracy')\n",
    "plt.xlabel('Epoch')\n",
    "plt.show()\n",
    "# summarize history for loss\n",
    "plt.plot(history.history['loss'])\n",
    "plt.title('Model Loss')\n",
    "plt.ylabel('Loss')\n",
    "plt.xlabel('Epoch')\n",
    "plt.show()"
   ]
  },
  {
   "cell_type": "code",
   "execution_count": null,
   "metadata": {
    "id": "KqEoJUllMOEa"
   },
   "outputs": [],
   "source": []
  },
  {
   "cell_type": "markdown",
   "metadata": {
    "id": "JgOd3EJDMPcr"
   },
   "source": [
    "**LOADING DATA AGAIN BUT THIS TIME FOR MULTICLASS CLASSIFICATION**"
   ]
  },
  {
   "cell_type": "code",
   "execution_count": 133,
   "metadata": {
    "id": "LV8dJMNQ7h5A"
   },
   "outputs": [],
   "source": [
    "X = data[:,7:85]\n",
    "Y = data[:, 85]"
   ]
  },
  {
   "cell_type": "markdown",
   "metadata": {
    "id": "dXtcZYiaMhPK"
   },
   "source": [
    "**ONE HOT ENCODING THE INDEPENDENT FEATURES**"
   ]
  },
  {
   "cell_type": "code",
   "execution_count": 134,
   "metadata": {
    "id": "uPCZfsa0GtD3"
   },
   "outputs": [],
   "source": [
    "from sklearn.compose import ColumnTransformer\n",
    "from sklearn.preprocessing import OneHotEncoder\n",
    "ct = ColumnTransformer(transformers=[('encoder', OneHotEncoder(), [76, 77])], remainder='passthrough')\n",
    "X = np.array(ct.fit_transform(X))"
   ]
  },
  {
   "cell_type": "markdown",
   "metadata": {
    "id": "WTo3YFPHMxsD"
   },
   "source": [
    "**REPLACING THE MISSING VALUES WITH THE MEAN OF THAT COLUMN**"
   ]
  },
  {
   "cell_type": "code",
   "execution_count": 135,
   "metadata": {
    "id": "7IFjLpczCKWk"
   },
   "outputs": [],
   "source": [
    "from sklearn.impute import SimpleImputer\n",
    "imputer = SimpleImputer(missing_values=np.nan, strategy='mean')\n",
    "imputer.fit(X)\n",
    "X = imputer.transform(X)"
   ]
  },
  {
   "cell_type": "code",
   "execution_count": 136,
   "metadata": {
    "colab": {
     "base_uri": "https://localhost:8080/"
    },
    "id": "tlg4R-D5CUF2",
    "outputId": "7a00f340-97bf-437a-cc43-c600025407a1"
   },
   "outputs": [
    {
     "data": {
      "text/plain": [
       "array([[  1.        ,   0.        ,   0.        , ...,   0.        ,\n",
       "        158.        , 158.        ],\n",
       "       [  1.        ,   0.        ,   0.        , ...,   0.        ,\n",
       "        265.        , 265.        ],\n",
       "       [  1.        ,   0.        ,   0.        , ...,   0.        ,\n",
       "        138.        , 138.        ],\n",
       "       ...,\n",
       "       [  1.        ,   0.        ,   0.        , ...,  26.87005769,\n",
       "        109.        ,  71.        ],\n",
       "       [  1.        ,   0.        ,   0.        , ...,   0.70710678,\n",
       "         74.        ,  73.        ],\n",
       "       [  1.        ,   0.        ,   0.        , ...,   0.        ,\n",
       "         83.        ,  83.        ]])"
      ]
     },
     "execution_count": 136,
     "metadata": {},
     "output_type": "execute_result"
    }
   ],
   "source": [
    "X"
   ]
  },
  {
   "cell_type": "markdown",
   "metadata": {
    "id": "QEO7bq4sNBfE"
   },
   "source": [
    "**DATA STANDARDIZATION**"
   ]
  },
  {
   "cell_type": "code",
   "execution_count": 137,
   "metadata": {
    "id": "XZfv4zBQdl2Y"
   },
   "outputs": [],
   "source": [
    "minMax= MinMaxScaler()\n",
    "X = minMax.fit_transform(X)\n",
    "std = StandardScaler()\n",
    "X = std.fit_transform(X)"
   ]
  },
  {
   "cell_type": "code",
   "execution_count": null,
   "metadata": {
    "id": "kd-AQHlhJzbx"
   },
   "outputs": [],
   "source": []
  },
  {
   "cell_type": "markdown",
   "metadata": {
    "id": "MgPdeJoKNL0y"
   },
   "source": [
    "**ENCODING LABELS AND PRING UNIQUE VALUES AFTER LABEL ENCODING**"
   ]
  },
  {
   "cell_type": "code",
   "execution_count": 138,
   "metadata": {
    "colab": {
     "base_uri": "https://localhost:8080/"
    },
    "id": "Ca96B0V8HFnT",
    "outputId": "9bf2e2ba-7f1c-46d2-b7f6-260424cdc393"
   },
   "outputs": [
    {
     "name": "stdout",
     "output_type": "stream",
     "text": [
      "[8, 5, 4, 2, 3, 1, 0, 7, 6]\n"
     ]
    }
   ],
   "source": [
    "from sklearn.preprocessing import LabelEncoder\n",
    "le = LabelEncoder()\n",
    "Y = le.fit_transform(Y)\n",
    "b = []\n",
    "for i in Y:\n",
    "    if i not in b:\n",
    "        b.append(i)\n",
    "print (b)"
   ]
  },
  {
   "cell_type": "markdown",
   "metadata": {
    "id": "pD1sAWhzNfS_"
   },
   "source": [
    "**SPLITING THE DATA FOR TRAINING AND TESTING THE MODEL**"
   ]
  },
  {
   "cell_type": "code",
   "execution_count": 139,
   "metadata": {
    "id": "lOfRv1je6ZYV"
   },
   "outputs": [],
   "source": [
    "X_train, X_test, y_train, y_test = train_test_split(X, Y, test_size=0.3, random_state=22)"
   ]
  },
  {
   "cell_type": "markdown",
   "metadata": {
    "id": "9l_DeZgoNnRP"
   },
   "source": [
    "**LSTM MODEL FOR MULTICLASS CLASSIFICATION**"
   ]
  },
  {
   "cell_type": "code",
   "execution_count": 140,
   "metadata": {
    "id": "0tFEcHJ66Zbi"
   },
   "outputs": [],
   "source": [
    "# The LSTM architecture\n",
    "classifier = Sequential()\n",
    "# First LSTM layer with Dropout regularisation\n",
    "classifier.add(LSTM(units=50, return_sequences=True, input_shape=(X_train.shape[1],1)))\n",
    "classifier.add(Dropout(0.2))\n",
    "# Second LSTM layer\n",
    "classifier.add(LSTM(units=50, return_sequences=True))\n",
    "classifier.add(Dropout(0.2))\n",
    "# Third LSTM layer\n",
    "classifier.add(LSTM(units=50, return_sequences=True))\n",
    "classifier.add(Dropout(0.2))\n",
    "# Fourth LSTM layer\n",
    "classifier.add(LSTM(units=50))\n",
    "classifier.add(Dropout(0.2))\n",
    "# The output layer\n",
    "classifier.add(Dense(units=9, activation='softmax'))"
   ]
  },
  {
   "cell_type": "markdown",
   "metadata": {
    "id": "U40fPTcHOAdl"
   },
   "source": [
    "**COMPILING AND TRAINING LSTM MODEL**"
   ]
  },
  {
   "cell_type": "code",
   "execution_count": 141,
   "metadata": {
    "colab": {
     "base_uri": "https://localhost:8080/"
    },
    "id": "KrmLYhiN6Zes",
    "outputId": "20667ba4-857a-4895-d96b-c2c05756641b"
   },
   "outputs": [
    {
     "metadata": {
      "tags": null
     },
     "name": "stdout",
     "output_type": "stream",
     "text": [
      "(437790, 83)\n",
      "(437790,)\n",
      "Epoch 1/10\n"
     ]
    },
    {
     "metadata": {
      "tags": null
     },
     "name": "stderr",
     "output_type": "stream",
     "text": [
      "/usr/local/lib/python3.7/dist-packages/tensorflow/python/util/dispatch.py:1082: UserWarning: \"`sparse_categorical_crossentropy` received `from_logits=True`, but the `output` argument was produced by a sigmoid or softmax activation and thus does not represent logits. Was this intended?\"\n",
      "  return dispatch_target(*args, **kwargs)\n"
     ]
    },
    {
     "metadata": {
      "tags": null
     },
     "name": "stdout",
     "output_type": "stream",
     "text": [
      "1095/1095 [==============================] - 33s 26ms/step - loss: 0.8304 - accuracy: 0.6694\n",
      "Epoch 2/10\n",
      "1095/1095 [==============================] - 28s 25ms/step - loss: 0.6032 - accuracy: 0.7300\n",
      "Epoch 3/10\n",
      "1095/1095 [==============================] - 27s 25ms/step - loss: 0.7098 - accuracy: 0.7096\n",
      "Epoch 4/10\n",
      "1095/1095 [==============================] - 27s 25ms/step - loss: 0.5857 - accuracy: 0.7353\n",
      "Epoch 5/10\n",
      "1095/1095 [==============================] - 28s 25ms/step - loss: 0.5628 - accuracy: 0.7423\n",
      "Epoch 6/10\n",
      "1095/1095 [==============================] - 27s 25ms/step - loss: 0.5399 - accuracy: 0.7495\n",
      "Epoch 7/10\n",
      "1095/1095 [==============================] - 27s 25ms/step - loss: 0.5310 - accuracy: 0.7523\n",
      "Epoch 8/10\n",
      "1095/1095 [==============================] - 27s 25ms/step - loss: 0.5242 - accuracy: 0.7531\n",
      "Epoch 9/10\n",
      "1095/1095 [==============================] - 27s 25ms/step - loss: 0.5183 - accuracy: 0.7542\n",
      "Epoch 10/10\n",
      "1095/1095 [==============================] - 27s 25ms/step - loss: 0.5170 - accuracy: 0.7542\n"
     ]
    }
   ],
   "source": [
    "classifier.compile(optimizer='adam',loss = tf.keras.losses.SparseCategoricalCrossentropy(from_logits=True), metrics=['accuracy'])\n",
    "X_train = tf.convert_to_tensor(X_train,np.float32)\n",
    "y_train = tf.convert_to_tensor(y_train,np.float32)\n",
    "print(X_train.shape)\n",
    "print(y_train.shape)\n",
    "history=classifier.fit(X_train, y_train,epochs=10, batch_size=400)"
   ]
  },
  {
   "cell_type": "markdown",
   "metadata": {
    "id": "aU8vy_79OJlQ"
   },
   "source": [
    "**EVALUTATING MODEL**"
   ]
  },
  {
   "cell_type": "code",
   "execution_count": 142,
   "metadata": {
    "colab": {
     "base_uri": "https://localhost:8080/"
    },
    "id": "pyteW0iB6Zh8",
    "outputId": "596ea6f3-1507-435d-be05-6918256e68ce"
   },
   "outputs": [
    {
     "name": "stderr",
     "output_type": "stream",
     "text": [
      "/usr/local/lib/python3.7/dist-packages/tensorflow/python/util/dispatch.py:1082: UserWarning: \"`sparse_categorical_crossentropy` received `from_logits=True`, but the `output` argument was produced by a sigmoid or softmax activation and thus does not represent logits. Was this intended?\"\n",
      "  return dispatch_target(*args, **kwargs)\n"
     ]
    },
    {
     "name": "stdout",
     "output_type": "stream",
     "text": [
      "5864/5864 [==============================] - 51s 8ms/step - loss: 0.5107 - accuracy: 0.7535\n",
      "Loss:  0.5107100605964661\n",
      "Accuracy:  75.34976601600647\n"
     ]
    }
   ],
   "source": [
    "loss,accuracy = classifier.evaluate(tf.convert_to_tensor(X_test,np.float32),tf.convert_to_tensor(y_test,np.float32))\n",
    "print(\"Loss: \", loss)\n",
    "print('Accuracy: ',accuracy*100)"
   ]
  },
  {
   "cell_type": "markdown",
   "metadata": {
    "id": "e2zqBB2NORey"
   },
   "source": [
    "**Visualizing Results**"
   ]
  },
  {
   "cell_type": "code",
   "execution_count": 143,
   "metadata": {
    "colab": {
     "base_uri": "https://localhost:8080/",
     "height": 573
    },
    "id": "nb_TkN106Zk5",
    "outputId": "36ddd6e4-a750-45e0-9490-912642dfda34"
   },
   "outputs": [
    {
     "data": {
      "image/png": "[encoded data removed]",
      "text/plain": [
       "<Figure size 432x288 with 1 Axes>"
      ]
     },
     "metadata": {
      "needs_background": "light"
     },
     "output_type": "display_data"
    },
    {
     "data": {
      "image/png": "[encoded data removed]",
      "text/plain": [
       "<Figure size 432x288 with 1 Axes>"
      ]
     },
     "metadata": {
      "needs_background": "light"
     },
     "output_type": "display_data"
    }
   ],
   "source": [
    "# summarize history for accuracy\n",
    "plt.plot(history.history['accuracy'])\n",
    "plt.title('model accuracy')\n",
    "plt.ylabel('accuracy')\n",
    "plt.xlabel('epoch')\n",
    "plt.show()\n",
    "# summarize history for loss\n",
    "plt.plot(history.history['loss'])\n",
    "plt.title('model loss')\n",
    "plt.ylabel('loss')\n",
    "plt.xlabel('epoch')\n",
    "plt.show()  "
   ]
  },
  {
   "cell_type": "code",
   "execution_count": null,
   "metadata": {
    "id": "B0gRYPvc6ZoQ"
   },
   "outputs": [],
   "source": []
  },
  {
   "cell_type": "code",
   "execution_count": null,
   "metadata": {
    "id": "OoEd3Bjp6ZrV"
   },
   "outputs": [],
   "source": []
  }
 ],
 "metadata": {
  "accelerator": "GPU",
  "colab": {
   "collapsed_sections": [],
   "name": "Anomaly_Binary_Classification_LSTM.ipynb",
   "provenance": []
  },
  "kernelspec": {
   "display_name": "Python 3",
   "language": "python",
   "name": "python3"
  },
  "language_info": {
   "codemirror_mode": {
    "name": "ipython",
    "version": 3
   },
   "file_extension": ".py",
   "mimetype": "text/x-python",
   "name": "python",
   "nbconvert_exporter": "python",
   "pygments_lexer": "ipython3",
   "version": "3.8.8"
  }
 },
 "nbformat": 4,
 "nbformat_minor": 1
}
